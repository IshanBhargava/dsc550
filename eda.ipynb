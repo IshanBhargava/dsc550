{
 "cells": [
  {
   "cell_type": "code",
   "execution_count": 288,
   "metadata": {},
   "outputs": [],
   "source": [
    "# Library Imports\n",
    "import pandas as pd\n",
    "import numpy as np\n",
    "import matplotlib.pyplot as plt\n",
    "import warnings\n",
    "import math\n",
    "\n",
    "warnings.filterwarnings('ignore')\n",
    "pd.set_option('display.max_columns', None)"
   ]
  },
  {
   "cell_type": "code",
   "execution_count": 290,
   "metadata": {},
   "outputs": [],
   "source": [
    "# Reading the dataset\n",
    "TextFileReader = pd.read_csv('./data/vehicles.csv', chunksize=10000)\n",
    "dt = pd.concat(TextFileReader, ignore_index=True)"
   ]
  },
  {
   "cell_type": "code",
   "execution_count": 291,
   "metadata": {},
   "outputs": [],
   "source": [
    "def findMissing(data, threshold = 5, to_print = True) -> list:\n",
    "    to_remove = []\n",
    "    missing_count = 0\n",
    "    for c in data.columns:\n",
    "        missing = data.shape[0] - data[c].describe().loc['count']\n",
    "        if missing>0:\n",
    "            missing_count += 1\n",
    "            missing_precent = int(missing)*100/len(data)\n",
    "            if to_print:\n",
    "                print('-----------------------')\n",
    "                print(c)\n",
    "                print('-----------------------')\n",
    "                print(data[c].describe())\n",
    "                print(f'\\nMissing Values: {int(missing)}\\n')\n",
    "                print(f'Percentage of Missing Values: {missing_precent}\\n')\n",
    "            if missing_precent <= threshold:\n",
    "                to_remove.append(c)\n",
    "    if missing_count == 0:\n",
    "        print(\"There's no missing data!!\")\n",
    "    return to_remove"
   ]
  },
  {
   "cell_type": "code",
   "execution_count": 292,
   "metadata": {},
   "outputs": [
    {
     "name": "stdout",
     "output_type": "stream",
     "text": [
      "<class 'pandas.core.frame.DataFrame'>\n",
      "RangeIndex: 426880 entries, 0 to 426879\n",
      "Data columns (total 26 columns):\n",
      " #   Column        Non-Null Count   Dtype  \n",
      "---  ------        --------------   -----  \n",
      " 0   id            426880 non-null  int64  \n",
      " 1   url           426880 non-null  object \n",
      " 2   region        426880 non-null  object \n",
      " 3   region_url    426880 non-null  object \n",
      " 4   price         426880 non-null  int64  \n",
      " 5   year          425675 non-null  float64\n",
      " 6   manufacturer  409234 non-null  object \n",
      " 7   model         421603 non-null  object \n",
      " 8   condition     252776 non-null  object \n",
      " 9   cylinders     249202 non-null  object \n",
      " 10  fuel          423867 non-null  object \n",
      " 11  odometer      422480 non-null  float64\n",
      " 12  title_status  418638 non-null  object \n",
      " 13  transmission  424324 non-null  object \n",
      " 14  VIN           265838 non-null  object \n",
      " 15  drive         296313 non-null  object \n",
      " 16  size          120519 non-null  object \n",
      " 17  type          334022 non-null  object \n",
      " 18  paint_color   296677 non-null  object \n",
      " 19  image_url     426812 non-null  object \n",
      " 20  description   426810 non-null  object \n",
      " 21  county        0 non-null       float64\n",
      " 22  state         426880 non-null  object \n",
      " 23  lat           420331 non-null  float64\n",
      " 24  long          420331 non-null  float64\n",
      " 25  posting_date  426812 non-null  object \n",
      "dtypes: float64(5), int64(2), object(19)\n",
      "memory usage: 84.7+ MB\n",
      "None\n"
     ]
    }
   ],
   "source": [
    "print(dt.info())"
   ]
  },
  {
   "cell_type": "code",
   "execution_count": 293,
   "metadata": {},
   "outputs": [],
   "source": [
    "# Deleting county column since all the values are missing\n",
    "dt = dt.drop('county',  axis=1)"
   ]
  },
  {
   "cell_type": "markdown",
   "metadata": {},
   "source": [
    "### Basic data cleaning"
   ]
  },
  {
   "cell_type": "code",
   "execution_count": 294,
   "metadata": {},
   "outputs": [
    {
     "data": {
      "text/plain": [
       "['year',\n",
       " 'manufacturer',\n",
       " 'model',\n",
       " 'fuel',\n",
       " 'odometer',\n",
       " 'title_status',\n",
       " 'transmission',\n",
       " 'image_url',\n",
       " 'description',\n",
       " 'lat',\n",
       " 'long',\n",
       " 'posting_date']"
      ]
     },
     "execution_count": 294,
     "metadata": {},
     "output_type": "execute_result"
    }
   ],
   "source": [
    "cols_for_removal = findMissing(dt, 5, False)\n",
    "cols_for_removal"
   ]
  },
  {
   "cell_type": "code",
   "execution_count": 295,
   "metadata": {},
   "outputs": [
    {
     "name": "stdout",
     "output_type": "stream",
     "text": [
      "(426880, 25)\n",
      "(383487, 25)\n"
     ]
    }
   ],
   "source": [
    "print(dt.shape)\n",
    "dt = dt.dropna(subset=cols_for_removal)\n",
    "print(dt.shape)"
   ]
  },
  {
   "cell_type": "markdown",
   "metadata": {},
   "source": []
  },
  {
   "cell_type": "code",
   "execution_count": 298,
   "metadata": {},
   "outputs": [
    {
     "name": "stdout",
     "output_type": "stream",
     "text": [
      "id\n",
      "url\n",
      "region\n",
      "region_url\n",
      "price\n",
      "year\n",
      "manufacturer\n",
      "model\n",
      "condition\n",
      "cylinders\n",
      "fuel\n",
      "odometer\n",
      "title_status\n",
      "transmission\n",
      "VIN\n",
      "drive\n",
      "size\n",
      "type\n",
      "paint_color\n",
      "image_url\n",
      "description\n",
      "state\n",
      "lat\n",
      "long\n",
      "posting_date\n",
      "row_items_missing\n"
     ]
    }
   ],
   "source": [
    "for i in dt.columns:\n",
    "    print(i)"
   ]
  },
  {
   "cell_type": "markdown",
   "metadata": {},
   "source": [
    "## Features we can use for search filtering\n",
    "<ol>\n",
    "<li> region/state\n",
    "<li> price\n",
    "<li> year\n",
    "<li> manufacturer\n",
    "<li> model\n",
    "<li> condition\n",
    "<li> fuel\n",
    "<li> odometer\n",
    "<li> transmission\n",
    "<li> drive\n",
    "<li> type\n",
    "<li> size\n",
    "</ol>"
   ]
  },
  {
   "cell_type": "code",
   "execution_count": 299,
   "metadata": {},
   "outputs": [],
   "source": [
    "filter_items = [\n",
    "    \"region\",\n",
    "    \"state\",\n",
    "    \"price\",\n",
    "    \"year\",\n",
    "    \"manufacturer\",\n",
    "    \"model\",\n",
    "    \"condition\",\n",
    "    \"fuel\",\n",
    "    \"odometer\",\n",
    "    \"transmission\",\n",
    "    \"drive\",\n",
    "    \"type\",\n",
    "    \"size\",\n",
    "]"
   ]
  },
  {
   "cell_type": "code",
   "execution_count": 300,
   "metadata": {},
   "outputs": [
    {
     "name": "stdout",
     "output_type": "stream",
     "text": [
      "condition\n",
      "----------\n",
      "count     231391\n",
      "unique         6\n",
      "top         good\n",
      "freq      114699\n",
      "Name: condition, dtype: object\n",
      "-----\n",
      "missing values: 152096\n",
      "------------------------------\n",
      "drive\n",
      "----------\n",
      "count     269327\n",
      "unique         3\n",
      "top          4wd\n",
      "freq      120840\n",
      "Name: drive, dtype: object\n",
      "-----\n",
      "missing values: 114160\n",
      "------------------------------\n",
      "type\n",
      "----------\n",
      "count     301093\n",
      "unique        13\n",
      "top        sedan\n",
      "freq       79618\n",
      "Name: type, dtype: object\n",
      "-----\n",
      "missing values: 82394\n",
      "------------------------------\n",
      "size\n",
      "----------\n",
      "count        107917\n",
      "unique            4\n",
      "top       full-size\n",
      "freq          57401\n",
      "Name: size, dtype: object\n",
      "-----\n",
      "missing values: 275570\n",
      "------------------------------\n"
     ]
    }
   ],
   "source": [
    "for col in filter_items:\n",
    "    missing = dt.shape[0] - dt[col].describe().loc['count']\n",
    "    if missing>0:\n",
    "        print(col)\n",
    "        print('-'*10)\n",
    "        print(dt[col].describe())\n",
    "        print('-'*5)\n",
    "        print(f'missing values: {missing}')\n",
    "        print('-'*30)"
   ]
  },
  {
   "cell_type": "markdown",
   "metadata": {},
   "source": [
    "# Working with column: condition"
   ]
  },
  {
   "cell_type": "code",
   "execution_count": 301,
   "metadata": {},
   "outputs": [
    {
     "name": "stdout",
     "output_type": "stream",
     "text": [
      "condition\n",
      "good         114699\n",
      "excellent     89212\n",
      "like new      19946\n",
      "fair           5910\n",
      "new            1093\n",
      "salvage         531\n",
      "Name: count, dtype: int64\n"
     ]
    }
   ],
   "source": [
    "print(dt['condition'].value_counts())"
   ]
  },
  {
   "cell_type": "code",
   "execution_count": 302,
   "metadata": {},
   "outputs": [],
   "source": [
    "dtt1 = dt[dt['condition'] == 'good']\n",
    "dtt2 = dt[dt['condition'] == 'fair']"
   ]
  },
  {
   "cell_type": "markdown",
   "metadata": {},
   "source": [
    "#### Imputing missing Condition values based on Year and Odometer"
   ]
  },
  {
   "cell_type": "code",
   "execution_count": 303,
   "metadata": {},
   "outputs": [],
   "source": [
    "features_affecting_condition = ['year', 'odometer']"
   ]
  },
  {
   "cell_type": "code",
   "execution_count": 304,
   "metadata": {},
   "outputs": [
    {
     "name": "stdout",
     "output_type": "stream",
     "text": [
      "year\n",
      "-----\n",
      "count    114699.000000\n",
      "mean       2012.312801\n",
      "std           8.847056\n",
      "min        1913.000000\n",
      "25%        2009.000000\n",
      "50%        2015.000000\n",
      "75%        2018.000000\n",
      "max        2022.000000\n",
      "Name: year, dtype: float64\n",
      "----------\n",
      "count    5910.000000\n",
      "mean     1998.792893\n",
      "std        12.306189\n",
      "min      1928.000000\n",
      "25%      1997.000000\n",
      "50%      2002.000000\n",
      "75%      2006.000000\n",
      "max      2022.000000\n",
      "Name: year, dtype: float64\n",
      "------------------------------\n",
      "odometer\n",
      "-----\n",
      "count    1.146990e+05\n",
      "mean     8.049082e+04\n",
      "std      1.845884e+05\n",
      "min      0.000000e+00\n",
      "25%      2.187750e+04\n",
      "50%      5.029300e+04\n",
      "75%      1.212545e+05\n",
      "max      1.000000e+07\n",
      "Name: odometer, dtype: float64\n",
      "----------\n",
      "count    5.910000e+03\n",
      "mean     2.141005e+05\n",
      "std      6.227506e+05\n",
      "min      0.000000e+00\n",
      "25%      1.220000e+05\n",
      "50%      1.689390e+05\n",
      "75%      2.114538e+05\n",
      "max      1.000000e+07\n",
      "Name: odometer, dtype: float64\n",
      "------------------------------\n"
     ]
    }
   ],
   "source": [
    "for i in features_affecting_condition:\n",
    "    print(i)\n",
    "    print('-'*5)\n",
    "    print(dtt1[i].describe())\n",
    "    print('-'*10)\n",
    "    print(dtt2[i].describe())\n",
    "    print('-'*30)"
   ]
  },
  {
   "cell_type": "markdown",
   "metadata": {},
   "source": [
    "#### Year -> mean(2012, 1999) = 2006\n",
    "#### Odometer -> mean of means = 1110748\n",
    "#### if year<2006 and odometer>1.1 10^6 then condition = fair else good\n"
   ]
  },
  {
   "cell_type": "code",
   "execution_count": 305,
   "metadata": {},
   "outputs": [],
   "source": [
    "def impute_condition(row):\n",
    "    if row['condition'] is np.nan:\n",
    "        if row['year'] < 2006:\n",
    "            if row['odometer'] > 1110748:\n",
    "                return 'fair'\n",
    "            else:\n",
    "                return 'good'\n",
    "        else:\n",
    "            if row['odometer'] > 1110748:\n",
    "                return 'fair'\n",
    "            else:\n",
    "                return 'good'\n",
    "    else:\n",
    "        return row['condition']"
   ]
  },
  {
   "cell_type": "code",
   "execution_count": 306,
   "metadata": {},
   "outputs": [],
   "source": [
    "dt['condition'] = dt.apply(impute_condition, axis=1)"
   ]
  },
  {
   "cell_type": "code",
   "execution_count": 307,
   "metadata": {},
   "outputs": [
    {
     "data": {
      "text/plain": [
       "array(['good', 'excellent', 'fair', 'like new', 'new', 'salvage'],\n",
       "      dtype=object)"
      ]
     },
     "execution_count": 307,
     "metadata": {},
     "output_type": "execute_result"
    }
   ],
   "source": [
    "dt['condition'].unique()"
   ]
  },
  {
   "cell_type": "markdown",
   "metadata": {},
   "source": [
    "# Working with column: Drive"
   ]
  },
  {
   "cell_type": "code",
   "execution_count": 308,
   "metadata": {},
   "outputs": [
    {
     "name": "stdout",
     "output_type": "stream",
     "text": [
      "drive\n",
      "----------\n",
      "count     269327\n",
      "unique         3\n",
      "top          4wd\n",
      "freq      120840\n",
      "Name: drive, dtype: object\n",
      "-----\n",
      "missing values: 114160\n",
      "------------------------------\n"
     ]
    }
   ],
   "source": [
    "for col in ['drive']:\n",
    "    missing = dt.shape[0] - dt[col].describe().loc['count']\n",
    "    if missing>0:\n",
    "        print(col)\n",
    "        print('-'*10)\n",
    "        print(dt[col].describe())\n",
    "        print('-'*5)\n",
    "        print(f'missing values: {missing}')\n",
    "        print('-'*30)"
   ]
  },
  {
   "cell_type": "code",
   "execution_count": 309,
   "metadata": {},
   "outputs": [
    {
     "data": {
      "text/plain": [
       "drive\n",
       "4wd    120840\n",
       "fwd     97789\n",
       "rwd     50698\n",
       "Name: count, dtype: int64"
      ]
     },
     "execution_count": 309,
     "metadata": {},
     "output_type": "execute_result"
    }
   ],
   "source": [
    "dt['drive'].value_counts()"
   ]
  },
  {
   "cell_type": "code",
   "execution_count": 310,
   "metadata": {},
   "outputs": [],
   "source": [
    "dt[['drive']] = dt[['drive']].fillna(value='fwd')"
   ]
  },
  {
   "cell_type": "code",
   "execution_count": 311,
   "metadata": {},
   "outputs": [
    {
     "data": {
      "text/plain": [
       "drive\n",
       "fwd    211949\n",
       "4wd    120840\n",
       "rwd     50698\n",
       "Name: count, dtype: int64"
      ]
     },
     "execution_count": 311,
     "metadata": {},
     "output_type": "execute_result"
    }
   ],
   "source": [
    "dt['drive'].value_counts()"
   ]
  },
  {
   "cell_type": "markdown",
   "metadata": {},
   "source": [
    "# Working with column: VIN, Paint Color"
   ]
  },
  {
   "cell_type": "code",
   "execution_count": 312,
   "metadata": {},
   "outputs": [
    {
     "name": "stdout",
     "output_type": "stream",
     "text": [
      "-----------------------\n",
      "cylinders\n",
      "-----------------------\n",
      "count          223023\n",
      "unique              8\n",
      "top       6 cylinders\n",
      "freq            84745\n",
      "Name: cylinders, dtype: object\n",
      "\n",
      "Missing Values: 160464\n",
      "\n",
      "Percentage of Missing Values: 41.843400167411154\n",
      "\n",
      "-----------------------\n",
      "VIN\n",
      "-----------------------\n",
      "count                241738\n",
      "unique               107439\n",
      "top       1FMJU1JT1HEA52352\n",
      "freq                    261\n",
      "Name: VIN, dtype: object\n",
      "\n",
      "Missing Values: 141749\n",
      "\n",
      "Percentage of Missing Values: 36.963182585068076\n",
      "\n",
      "-----------------------\n",
      "size\n",
      "-----------------------\n",
      "count        107917\n",
      "unique            4\n",
      "top       full-size\n",
      "freq          57401\n",
      "Name: size, dtype: object\n",
      "\n",
      "Missing Values: 275570\n",
      "\n",
      "Percentage of Missing Values: 71.85901999285504\n",
      "\n",
      "-----------------------\n",
      "type\n",
      "-----------------------\n",
      "count     301093\n",
      "unique        13\n",
      "top        sedan\n",
      "freq       79618\n",
      "Name: type, dtype: object\n",
      "\n",
      "Missing Values: 82394\n",
      "\n",
      "Percentage of Missing Values: 21.48547408386725\n",
      "\n",
      "-----------------------\n",
      "paint_color\n",
      "-----------------------\n",
      "count     271276\n",
      "unique        12\n",
      "top        white\n",
      "freq       70937\n",
      "Name: paint_color, dtype: object\n",
      "\n",
      "Missing Values: 112211\n",
      "\n",
      "Percentage of Missing Values: 29.260705056494743\n",
      "\n"
     ]
    },
    {
     "data": {
      "text/plain": [
       "[]"
      ]
     },
     "execution_count": 312,
     "metadata": {},
     "output_type": "execute_result"
    }
   ],
   "source": [
    "findMissing(dt)"
   ]
  },
  {
   "cell_type": "code",
   "execution_count": 313,
   "metadata": {},
   "outputs": [],
   "source": [
    "dt['VIN'].fillna('missing', inplace=True)"
   ]
  },
  {
   "cell_type": "code",
   "execution_count": 314,
   "metadata": {},
   "outputs": [],
   "source": [
    "dt['paint_color'].fillna('white', inplace=True)"
   ]
  },
  {
   "cell_type": "markdown",
   "metadata": {},
   "source": [
    "# Working with column: Size"
   ]
  },
  {
   "cell_type": "code",
   "execution_count": 315,
   "metadata": {},
   "outputs": [
    {
     "name": "stdout",
     "output_type": "stream",
     "text": [
      "-----------------------\n",
      "cylinders\n",
      "-----------------------\n",
      "count          223023\n",
      "unique              8\n",
      "top       6 cylinders\n",
      "freq            84745\n",
      "Name: cylinders, dtype: object\n",
      "\n",
      "Missing Values: 160464\n",
      "\n",
      "Percentage of Missing Values: 41.843400167411154\n",
      "\n",
      "-----------------------\n",
      "size\n",
      "-----------------------\n",
      "count        107917\n",
      "unique            4\n",
      "top       full-size\n",
      "freq          57401\n",
      "Name: size, dtype: object\n",
      "\n",
      "Missing Values: 275570\n",
      "\n",
      "Percentage of Missing Values: 71.85901999285504\n",
      "\n",
      "-----------------------\n",
      "type\n",
      "-----------------------\n",
      "count     301093\n",
      "unique        13\n",
      "top        sedan\n",
      "freq       79618\n",
      "Name: type, dtype: object\n",
      "\n",
      "Missing Values: 82394\n",
      "\n",
      "Percentage of Missing Values: 21.48547408386725\n",
      "\n"
     ]
    },
    {
     "data": {
      "text/plain": [
       "[]"
      ]
     },
     "execution_count": 315,
     "metadata": {},
     "output_type": "execute_result"
    }
   ],
   "source": [
    "findMissing(dt)"
   ]
  },
  {
   "cell_type": "code",
   "execution_count": 316,
   "metadata": {},
   "outputs": [
    {
     "data": {
      "text/plain": [
       "size\n",
       "full-size      57401\n",
       "mid-size       31158\n",
       "compact        16661\n",
       "sub-compact     2697\n",
       "Name: count, dtype: int64"
      ]
     },
     "execution_count": 316,
     "metadata": {},
     "output_type": "execute_result"
    }
   ],
   "source": [
    "dt['size'].value_counts()"
   ]
  },
  {
   "cell_type": "code",
   "execution_count": 317,
   "metadata": {},
   "outputs": [
    {
     "name": "stdout",
     "output_type": "stream",
     "text": [
      "{'full-size': 57401, 'mid-size': 31158, 'compact': 16661, 'sub-compact': 2697}\n"
     ]
    }
   ],
   "source": [
    "l1 = dt['size'].value_counts().to_dict()\n",
    "print(l1)"
   ]
  },
  {
   "cell_type": "code",
   "execution_count": 318,
   "metadata": {},
   "outputs": [],
   "source": [
    "dt = dt.reset_index(drop=True)\n",
    "missing_size = dt[dt['size'].isna() == True].index.to_list()\n",
    "\n",
    "impute_data = {\n",
    "    'full-size': missing_size[0:146576],\n",
    "    'mid-size': missing_size[146576:226139],\n",
    "    'compact': missing_size[226139:268683],\n",
    "    'sub-compact': missing_size[268683:len(missing_size)]\n",
    "}"
   ]
  },
  {
   "cell_type": "code",
   "execution_count": 319,
   "metadata": {},
   "outputs": [],
   "source": [
    "for k,v in impute_data.items():\n",
    "    for i in v:\n",
    "        dt['size'].iloc[i] = k"
   ]
  },
  {
   "cell_type": "markdown",
   "metadata": {},
   "source": [
    "# Working with column: Type"
   ]
  },
  {
   "cell_type": "code",
   "execution_count": 320,
   "metadata": {},
   "outputs": [
    {
     "name": "stdout",
     "output_type": "stream",
     "text": [
      "-----------------------\n",
      "cylinders\n",
      "-----------------------\n",
      "count          223023\n",
      "unique              8\n",
      "top       6 cylinders\n",
      "freq            84745\n",
      "Name: cylinders, dtype: object\n",
      "\n",
      "Missing Values: 160464\n",
      "\n",
      "Percentage of Missing Values: 41.843400167411154\n",
      "\n",
      "-----------------------\n",
      "type\n",
      "-----------------------\n",
      "count     301093\n",
      "unique        13\n",
      "top        sedan\n",
      "freq       79618\n",
      "Name: type, dtype: object\n",
      "\n",
      "Missing Values: 82394\n",
      "\n",
      "Percentage of Missing Values: 21.48547408386725\n",
      "\n"
     ]
    },
    {
     "data": {
      "text/plain": [
       "[]"
      ]
     },
     "execution_count": 320,
     "metadata": {},
     "output_type": "execute_result"
    }
   ],
   "source": [
    "findMissing(dt)"
   ]
  },
  {
   "cell_type": "code",
   "execution_count": 321,
   "metadata": {},
   "outputs": [
    {
     "data": {
      "text/plain": [
       "type\n",
       "sedan          79618\n",
       "SUV            69891\n",
       "pickup         40413\n",
       "truck          31301\n",
       "other          18549\n",
       "coupe          16964\n",
       "hatchback      14949\n",
       "wagon          10011\n",
       "van             7224\n",
       "convertible     6820\n",
       "mini-van        4530\n",
       "offroad          549\n",
       "bus              274\n",
       "Name: count, dtype: int64"
      ]
     },
     "execution_count": 321,
     "metadata": {},
     "output_type": "execute_result"
    }
   ],
   "source": [
    "dt['type'].value_counts()"
   ]
  },
  {
   "cell_type": "code",
   "execution_count": 322,
   "metadata": {},
   "outputs": [
    {
     "data": {
      "text/plain": [
       "{'sedan': 21788,\n",
       " 'SUV': 19126,\n",
       " 'pickup': 11059,\n",
       " 'truck': 8566,\n",
       " 'other': 5076,\n",
       " 'coupe': 4643,\n",
       " 'hatchback': 4091,\n",
       " 'wagon': 2740,\n",
       " 'van': 1977,\n",
       " 'convertible': 1867,\n",
       " 'mini-van': 1240,\n",
       " 'offroad': 151,\n",
       " 'bus': 75}"
      ]
     },
     "execution_count": 322,
     "metadata": {},
     "output_type": "execute_result"
    }
   ],
   "source": [
    "type_vc = dt['type'].value_counts().to_dict()\n",
    "avail = dt['type'].describe()['count']\n",
    "\n",
    "for k,v in type_vc.items():\n",
    "    type_vc[k] = math.ceil(round((((v/avail)*len(dt)) - v),2))\n",
    "type_vc"
   ]
  },
  {
   "cell_type": "code",
   "execution_count": 323,
   "metadata": {},
   "outputs": [],
   "source": [
    "missing_type = dt[dt['type'].isna() == True].index.to_list()\n",
    "\n",
    "impute_type_data = {\n",
    "    'sedan': missing_type[0:21788],\n",
    "    'SUV': missing_type[21788:40914],\n",
    "    'pickup': missing_type[40914:51973],\n",
    "    'truck': missing_type[51973:60539],\n",
    "    'other': missing_type[60539:65615],\n",
    "    'coupe': missing_type[65615:70258],\n",
    "    'hatchback': missing_type[70258:74349],\n",
    "    'wagon': missing_type[74349:77089],\n",
    "    'van': missing_type[77089:79066],\n",
    "    'convertible': missing_type[79066:80933],\n",
    "    'mini-van': missing_type[80933:82173],\n",
    "    'offroad': missing_type[82173:82324],\n",
    "    'bus': missing_type[82324:],\n",
    "}"
   ]
  },
  {
   "cell_type": "code",
   "execution_count": 324,
   "metadata": {},
   "outputs": [],
   "source": [
    "for k,v in impute_type_data.items():\n",
    "    for i in v:\n",
    "        dt['type'].iloc[i] = k"
   ]
  },
  {
   "cell_type": "markdown",
   "metadata": {},
   "source": [
    "# Working with column: Cylinders"
   ]
  },
  {
   "cell_type": "code",
   "execution_count": null,
   "metadata": {},
   "outputs": [
    {
     "name": "stdout",
     "output_type": "stream",
     "text": [
      "-----------------------\n",
      "cylinders\n",
      "-----------------------\n",
      "count          223023\n",
      "unique              8\n",
      "top       6 cylinders\n",
      "freq            84745\n",
      "Name: cylinders, dtype: object\n",
      "\n",
      "Missing Values: 160464\n",
      "\n",
      "Percentage of Missing Values: 41.843400167411154\n",
      "\n"
     ]
    },
    {
     "data": {
      "text/plain": [
       "[]"
      ]
     },
     "execution_count": 246,
     "metadata": {},
     "output_type": "execute_result"
    }
   ],
   "source": [
    "findMissing(dt)"
   ]
  },
  {
   "cell_type": "code",
   "execution_count": null,
   "metadata": {},
   "outputs": [
    {
     "data": {
      "text/plain": [
       "cylinders\n",
       "6 cylinders     84745\n",
       "4 cylinders     69547\n",
       "8 cylinders     64506\n",
       "5 cylinders      1522\n",
       "10 cylinders     1291\n",
       "other             799\n",
       "3 cylinders       505\n",
       "12 cylinders      108\n",
       "Name: count, dtype: int64"
      ]
     },
     "execution_count": 251,
     "metadata": {},
     "output_type": "execute_result"
    }
   ],
   "source": [
    "dt['cylinders'].value_counts()"
   ]
  },
  {
   "cell_type": "code",
   "execution_count": null,
   "metadata": {},
   "outputs": [],
   "source": [
    "impute_cylinder_data = {}\n",
    "\n",
    "for k in impute_type_data.keys():\n",
    "    impute_cylinder_data[k] = dt['cylinders'][dt['type']==k].describe()['top']\n",
    "\n",
    "for k,v in impute_cylinder_data.items():\n",
    "    dt['cylinders'][(dt['type'] == k) & dt['cylinders'].isna() == True] = v"
   ]
  },
  {
   "cell_type": "code",
   "execution_count": null,
   "metadata": {},
   "outputs": [
    {
     "name": "stdout",
     "output_type": "stream",
     "text": [
      "There's no missing data!!\n"
     ]
    },
    {
     "data": {
      "text/plain": [
       "[]"
      ]
     },
     "execution_count": 263,
     "metadata": {},
     "output_type": "execute_result"
    }
   ],
   "source": [
    "findMissing(dt)"
   ]
  },
  {
   "cell_type": "markdown",
   "metadata": {},
   "source": [
    "# Imputation Complete"
   ]
  },
  {
   "cell_type": "code",
   "execution_count": null,
   "metadata": {},
   "outputs": [],
   "source": [
    "# dt.to_csv('./Data/clean_vehicles.csv')"
   ]
  },
  {
   "cell_type": "code",
   "execution_count": null,
   "metadata": {},
   "outputs": [],
   "source": []
  }
 ],
 "metadata": {
  "kernelspec": {
   "display_name": "base",
   "language": "python",
   "name": "python3"
  },
  "language_info": {
   "codemirror_mode": {
    "name": "ipython",
    "version": 3
   },
   "file_extension": ".py",
   "mimetype": "text/x-python",
   "name": "python",
   "nbconvert_exporter": "python",
   "pygments_lexer": "ipython3",
   "version": "3.11.7"
  }
 },
 "nbformat": 4,
 "nbformat_minor": 2
}
