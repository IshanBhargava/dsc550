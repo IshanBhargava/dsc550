{
 "cells": [
  {
   "cell_type": "code",
   "execution_count": 1,
   "metadata": {},
   "outputs": [
    {
     "name": "stdout",
     "output_type": "stream",
     "text": [
      "    Color   Size   Action    Age Inflated\n",
      "0  YELLOW  SMALL  STRETCH  ADULT        T\n",
      "1  YELLOW  SMALL  STRETCH  CHILD        F\n",
      "2  YELLOW  SMALL      DIP  ADULT        F\n",
      "3  YELLOW  SMALL      DIP  CHILD        F\n",
      "4  YELLOW  LARGE  STRETCH  ADULT        T\n"
     ]
    }
   ],
   "source": [
    "import pandas as pd \n",
    "import prince\n",
    "\n",
    "X = pd.read_csv('https://archive.ics.uci.edu/ml/machine-learning-databases/balloons/adult+stretch.data')\n",
    "X.columns = ['Color', 'Size', 'Action', 'Age', 'Inflated']\n",
    "\n",
    "print(X.head())"
   ]
  },
  {
   "cell_type": "code",
   "execution_count": 7,
   "metadata": {},
   "outputs": [],
   "source": [
    "mca = prince.MCA()\n",
    "mca = mca.fit(X) # same as calling ca.fs_r(1)\n",
    "mca = mca.transform(X) # same as calling ca.fs_r_sup(df_new) for *another* test set."
   ]
  },
  {
   "cell_type": "code",
   "execution_count": 8,
   "metadata": {},
   "outputs": [
    {
     "name": "stdout",
     "output_type": "stream",
     "text": [
      "           0             1\n",
      "0   0.705387  9.720809e-15\n",
      "1  -0.386586  8.691649e-15\n",
      "2  -0.386586  8.265310e-15\n",
      "3  -0.852014  7.914168e-15\n",
      "4   0.783539 -6.333333e-01\n",
      "5   0.783539 -6.333333e-01\n",
      "6  -0.308434 -6.333333e-01\n",
      "7  -0.308434 -6.333333e-01\n",
      "8  -0.773862 -6.333333e-01\n",
      "9   0.783539  6.333333e-01\n",
      "10  0.783539  6.333333e-01\n",
      "11 -0.308434  6.333333e-01\n",
      "12 -0.308434  6.333333e-01\n",
      "13 -0.773862  6.333333e-01\n",
      "14  0.861691 -7.299282e-15\n",
      "15  0.861691 -7.299282e-15\n",
      "16 -0.230282 -8.328441e-15\n",
      "17 -0.230282 -8.754781e-15\n",
      "18 -0.695710 -9.105922e-15\n"
     ]
    }
   ],
   "source": [
    "print(mca)"
   ]
  },
  {
   "cell_type": "code",
   "execution_count": null,
   "metadata": {},
   "outputs": [],
   "source": []
  }
 ],
 "metadata": {
  "kernelspec": {
   "display_name": "base",
   "language": "python",
   "name": "python3"
  },
  "language_info": {
   "codemirror_mode": {
    "name": "ipython",
    "version": 3
   },
   "file_extension": ".py",
   "mimetype": "text/x-python",
   "name": "python",
   "nbconvert_exporter": "python",
   "pygments_lexer": "ipython3",
   "version": "3.11.7"
  }
 },
 "nbformat": 4,
 "nbformat_minor": 2
}
